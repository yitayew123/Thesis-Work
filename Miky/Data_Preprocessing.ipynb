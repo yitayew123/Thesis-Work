{
 "cells": [
  {
   "cell_type": "markdown",
   "id": "a75c379d",
   "metadata": {},
   "source": [
    "#### Data Understanding"
   ]
  },
  {
   "cell_type": "code",
   "execution_count": 28,
   "id": "cfa98c06",
   "metadata": {},
   "outputs": [],
   "source": [
    "import pandas as pd\n",
    "import numpy as np\n",
    "import matplotlib.pyplot as plt\n",
    "import seaborn as sns"
   ]
  },
  {
   "cell_type": "code",
   "execution_count": 29,
   "id": "b599be29",
   "metadata": {},
   "outputs": [],
   "source": [
    "data = pd.read_csv('CVD_Dataset.csv')"
   ]
  },
  {
   "cell_type": "code",
   "execution_count": 30,
   "id": "7643b2a8",
   "metadata": {},
   "outputs": [
    {
     "data": {
      "text/html": [
       "<div>\n",
       "<style scoped>\n",
       "    .dataframe tbody tr th:only-of-type {\n",
       "        vertical-align: middle;\n",
       "    }\n",
       "\n",
       "    .dataframe tbody tr th {\n",
       "        vertical-align: top;\n",
       "    }\n",
       "\n",
       "    .dataframe thead th {\n",
       "        text-align: right;\n",
       "    }\n",
       "</style>\n",
       "<table border=\"1\" class=\"dataframe\">\n",
       "  <thead>\n",
       "    <tr style=\"text-align: right;\">\n",
       "      <th></th>\n",
       "      <th>Risk Factor</th>\n",
       "      <th>Allr Hx</th>\n",
       "      <th>Age</th>\n",
       "      <th>Gender</th>\n",
       "      <th>Medic Hx</th>\n",
       "      <th>Historian</th>\n",
       "      <th>Pulse Rate</th>\n",
       "      <th>Systolic Pressure</th>\n",
       "      <th>Diastolic Pressure</th>\n",
       "      <th>Respiratory Rate</th>\n",
       "      <th>Temperature</th>\n",
       "      <th>Musculoskeletal System</th>\n",
       "      <th>Weight</th>\n",
       "      <th>Diagnosis</th>\n",
       "      <th>Medical Condition</th>\n",
       "      <th>BMI</th>\n",
       "      <th>Total Cholesterol</th>\n",
       "      <th>CVD</th>\n",
       "    </tr>\n",
       "  </thead>\n",
       "  <tbody>\n",
       "    <tr>\n",
       "      <th>0</th>\n",
       "      <td>Diabetes</td>\n",
       "      <td>No</td>\n",
       "      <td>49</td>\n",
       "      <td>Female</td>\n",
       "      <td>No</td>\n",
       "      <td>No</td>\n",
       "      <td>78</td>\n",
       "      <td>107</td>\n",
       "      <td>71.0</td>\n",
       "      <td>22</td>\n",
       "      <td>36.0</td>\n",
       "      <td>No</td>\n",
       "      <td>49.2</td>\n",
       "      <td>Surgical Conditions</td>\n",
       "      <td>Arthritis</td>\n",
       "      <td>12.1</td>\n",
       "      <td>175</td>\n",
       "      <td>No</td>\n",
       "    </tr>\n",
       "    <tr>\n",
       "      <th>1</th>\n",
       "      <td>Diabetes</td>\n",
       "      <td>YES</td>\n",
       "      <td>20</td>\n",
       "      <td>Female</td>\n",
       "      <td>No</td>\n",
       "      <td>No</td>\n",
       "      <td>88</td>\n",
       "      <td>110</td>\n",
       "      <td>70.0</td>\n",
       "      <td>20</td>\n",
       "      <td>36.0</td>\n",
       "      <td>No</td>\n",
       "      <td>87.8</td>\n",
       "      <td>Cardiovascular Diseases</td>\n",
       "      <td>Cancer</td>\n",
       "      <td>12.1</td>\n",
       "      <td>248</td>\n",
       "      <td>Yes</td>\n",
       "    </tr>\n",
       "    <tr>\n",
       "      <th>2</th>\n",
       "      <td>Diabetes</td>\n",
       "      <td>YES</td>\n",
       "      <td>53</td>\n",
       "      <td>Male</td>\n",
       "      <td>No</td>\n",
       "      <td>No</td>\n",
       "      <td>112</td>\n",
       "      <td>165</td>\n",
       "      <td>112.0</td>\n",
       "      <td>36</td>\n",
       "      <td>56.0</td>\n",
       "      <td>No</td>\n",
       "      <td>87.8</td>\n",
       "      <td>Endocrine Disorders</td>\n",
       "      <td>Cancer</td>\n",
       "      <td>12.1</td>\n",
       "      <td>183</td>\n",
       "      <td>Yes</td>\n",
       "    </tr>\n",
       "    <tr>\n",
       "      <th>3</th>\n",
       "      <td>Diabetes</td>\n",
       "      <td>YES</td>\n",
       "      <td>67</td>\n",
       "      <td>Female</td>\n",
       "      <td>Yes</td>\n",
       "      <td>No</td>\n",
       "      <td>88</td>\n",
       "      <td>110</td>\n",
       "      <td>70.0</td>\n",
       "      <td>20</td>\n",
       "      <td>36.0</td>\n",
       "      <td>No</td>\n",
       "      <td>49.5</td>\n",
       "      <td>Cardiovascular Diseases</td>\n",
       "      <td>Obesity</td>\n",
       "      <td>12.3</td>\n",
       "      <td>196</td>\n",
       "      <td>Yes</td>\n",
       "    </tr>\n",
       "    <tr>\n",
       "      <th>4</th>\n",
       "      <td>Diabetes</td>\n",
       "      <td>No</td>\n",
       "      <td>62</td>\n",
       "      <td>Female</td>\n",
       "      <td>No</td>\n",
       "      <td>No</td>\n",
       "      <td>104</td>\n",
       "      <td>110</td>\n",
       "      <td>71.0</td>\n",
       "      <td>22</td>\n",
       "      <td>36.5</td>\n",
       "      <td>No</td>\n",
       "      <td>47.0</td>\n",
       "      <td>Surgical Conditions</td>\n",
       "      <td>Hypertension</td>\n",
       "      <td>12.6</td>\n",
       "      <td>150</td>\n",
       "      <td>No</td>\n",
       "    </tr>\n",
       "  </tbody>\n",
       "</table>\n",
       "</div>"
      ],
      "text/plain": [
       "  Risk Factor Allr Hx  Age  Gender Medic Hx Historian  Pulse Rate  \\\n",
       "0    Diabetes      No   49  Female       No        No          78   \n",
       "1    Diabetes     YES   20  Female       No        No          88   \n",
       "2    Diabetes     YES   53    Male       No        No         112   \n",
       "3    Diabetes     YES   67  Female      Yes        No          88   \n",
       "4    Diabetes      No   62  Female       No        No         104   \n",
       "\n",
       "   Systolic Pressure  Diastolic Pressure  Respiratory Rate  Temperature   \\\n",
       "0                107                71.0                22          36.0   \n",
       "1                110                70.0                20          36.0   \n",
       "2                165               112.0                36          56.0   \n",
       "3                110                70.0                20          36.0   \n",
       "4                110                71.0                22          36.5   \n",
       "\n",
       "  Musculoskeletal System  Weight                Diagnosis Medical Condition  \\\n",
       "0                     No    49.2      Surgical Conditions         Arthritis   \n",
       "1                     No    87.8  Cardiovascular Diseases            Cancer   \n",
       "2                     No    87.8      Endocrine Disorders            Cancer   \n",
       "3                     No    49.5  Cardiovascular Diseases           Obesity   \n",
       "4                     No    47.0      Surgical Conditions      Hypertension   \n",
       "\n",
       "    BMI  Total Cholesterol   CVD  \n",
       "0  12.1                 175   No  \n",
       "1  12.1                 248  Yes  \n",
       "2  12.1                 183  Yes  \n",
       "3  12.3                 196  Yes  \n",
       "4  12.6                 150   No  "
      ]
     },
     "execution_count": 30,
     "metadata": {},
     "output_type": "execute_result"
    }
   ],
   "source": [
    "data.head()"
   ]
  },
  {
   "cell_type": "code",
   "execution_count": 31,
   "id": "3a1487b6",
   "metadata": {},
   "outputs": [
    {
     "data": {
      "text/plain": [
       "array(['Diabetes', 'Dyslamapedia', 'Hypertension', 'Obesity', 'Stress'],\n",
       "      dtype=object)"
      ]
     },
     "execution_count": 31,
     "metadata": {},
     "output_type": "execute_result"
    }
   ],
   "source": [
    "data['Risk Factor'].unique()"
   ]
  },
  {
   "cell_type": "code",
   "execution_count": 32,
   "id": "c578d1f8",
   "metadata": {},
   "outputs": [
    {
     "data": {
      "text/plain": [
       "Risk Factor\n",
       "Obesity         7381\n",
       "Dyslamapedia    7142\n",
       "Stress          2963\n",
       "Hypertension    2285\n",
       "Diabetes        1155\n",
       "Name: count, dtype: int64"
      ]
     },
     "execution_count": 32,
     "metadata": {},
     "output_type": "execute_result"
    }
   ],
   "source": [
    "data['Risk Factor'].value_counts()"
   ]
  },
  {
   "cell_type": "code",
   "execution_count": 33,
   "id": "90508bb0",
   "metadata": {},
   "outputs": [
    {
     "data": {
      "text/plain": [
       "array(['No', 'YES'], dtype=object)"
      ]
     },
     "execution_count": 33,
     "metadata": {},
     "output_type": "execute_result"
    }
   ],
   "source": [
    "data['Allr Hx'].unique()"
   ]
  },
  {
   "cell_type": "code",
   "execution_count": 34,
   "id": "88457582",
   "metadata": {},
   "outputs": [
    {
     "data": {
      "text/plain": [
       "array([49, 20, 53, 67, 62, 35, 37, 65, 83, 40, 47, 32, 38, 41, 73, 63, 71,\n",
       "       85, 24, 82, 74, 43, 89, 79, 21, 44, 48, 81, 69, 75, 54, 61, 23, 33,\n",
       "       34, 60, 19, 42, 80, 59, 76, 77, 28, 31, 58, 56, 78, 39, 36, 68, 70,\n",
       "       66, 57, 72, 29, 30, 55, 22, 50, 52, 46, 25, 84, 45, 64, 26, 27, 51])"
      ]
     },
     "execution_count": 34,
     "metadata": {},
     "output_type": "execute_result"
    }
   ],
   "source": [
    "data['Age'].unique()"
   ]
  },
  {
   "cell_type": "code",
   "execution_count": 35,
   "id": "7359085d",
   "metadata": {},
   "outputs": [
    {
     "data": {
      "text/plain": [
       "array(['Female', 'Male'], dtype=object)"
      ]
     },
     "execution_count": 35,
     "metadata": {},
     "output_type": "execute_result"
    }
   ],
   "source": [
    "data['Gender'].unique()"
   ]
  },
  {
   "cell_type": "code",
   "execution_count": 36,
   "id": "b2f891a2",
   "metadata": {},
   "outputs": [
    {
     "data": {
      "text/plain": [
       "array(['No', 'Yes'], dtype=object)"
      ]
     },
     "execution_count": 36,
     "metadata": {},
     "output_type": "execute_result"
    }
   ],
   "source": [
    "data['Medic Hx'].unique()"
   ]
  },
  {
   "cell_type": "code",
   "execution_count": 37,
   "id": "894d50b5",
   "metadata": {},
   "outputs": [
    {
     "data": {
      "text/plain": [
       "array(['No', 'Yes'], dtype=object)"
      ]
     },
     "execution_count": 37,
     "metadata": {},
     "output_type": "execute_result"
    }
   ],
   "source": [
    "data['Historian'].unique()"
   ]
  },
  {
   "cell_type": "code",
   "execution_count": 38,
   "id": "2714afe1",
   "metadata": {},
   "outputs": [
    {
     "data": {
      "text/plain": [
       "array([ 78,  88, 112, 104,  82, 109,  79, 100, 136, 120,  86,  94,  98,\n",
       "        93,  85, 111, 122,  68,  90, 101,  87,  73, 114, 110,  96,  92,\n",
       "        70,  75,  80, 103,  84, 116,  76,  95, 118,  89,  60, 117,  74,\n",
       "        65, 150, 102, 105,  77, 140,  99, 115,  81, 144,  64, 132, 124,\n",
       "        71, 108, 123, 128,  66, 107,  40, 143,  72, 130,  91,  67,  83,\n",
       "        63, 113, 106, 174, 138,  21,  69, 171, 125, 156, 148,  46, 145,\n",
       "        97, 127, 121, 126,  55,  62, 119,  18, 129,  48, 131, 134,  54,\n",
       "       160,  23,   0,  52, 139, 133, 152, 149, 158, 135, 137, 184,  56,\n",
       "       164, 196,  61, 146,  12, 168,  30,  50,  59,  24, 141,  58,  57,\n",
       "        10, 167, 182, 154,  25, 177,  49, 142,  11, 781, 180,  14, 390,\n",
       "        44, 175,  47, 189, 169, 147, 890,  45, 660,  20,  42, 159,  36,\n",
       "        27,   7,  22, 886, 193, 678, 153,  26, 190, 871, 166, 888,   2,\n",
       "       192, 157,  37,  53, 173])"
      ]
     },
     "execution_count": 38,
     "metadata": {},
     "output_type": "execute_result"
    }
   ],
   "source": [
    "data['Pulse Rate'].unique()"
   ]
  },
  {
   "cell_type": "code",
   "execution_count": 39,
   "id": "b8cd3fc2",
   "metadata": {},
   "outputs": [
    {
     "data": {
      "text/plain": [
       "array([107, 110, 165, 130, 147, 160, 117, 103, 180, 122, 138, 153, 100,\n",
       "       164, 170, 120, 126, 108, 124, 136, 115, 111, 127, 121, 125, 144,\n",
       "       140, 177, 112, 119, 139, 151, 230, 150, 162, 178, 134, 189, 114,\n",
       "       168, 179, 148, 128, 118, 163, 123, 200, 116, 129, 109, 201, 161,\n",
       "       133, 167, 106, 102, 156, 154, 104, 137, 145, 166, 216, 105, 181,\n",
       "       185, 198, 194, 169, 101, 199, 132, 192, 141, 175, 209, 142, 182,\n",
       "       193, 172, 113, 149, 146, 176, 190, 214, 188, 203, 159, 241, 135,\n",
       "       155, 240, 158, 223, 174, 217, 131, 195, 171, 183, 152, 157, 213,\n",
       "       196, 215, 173, 187, 211, 202, 234, 143, 184, 210, 186, 220, 224,\n",
       "       250, 207, 225, 208, 197, 191, 212, 247, 935, 205, 226, 218, 248,\n",
       "       255, 260, 221, 222, 237, 229, 231, 253])"
      ]
     },
     "execution_count": 39,
     "metadata": {},
     "output_type": "execute_result"
    }
   ],
   "source": [
    "data['Systolic Pressure'].unique()"
   ]
  },
  {
   "cell_type": "code",
   "execution_count": 40,
   "id": "ce558019",
   "metadata": {},
   "outputs": [
    {
     "data": {
      "text/plain": [
       "array([ 71. ,  70. , 112. ,  76. ,  98. ,  92. ,  49. ,  58. ,  78. ,\n",
       "        86. ,  60. , 100. ,  84. ,  69. ,  87. ,  80. ,  72. ,  75. ,\n",
       "       121. ,  96. , 110. ,  89. ,  85. ,  90. ,  93. ,  88. , 104. ,\n",
       "        83. ,  82. , 145. ,  66. ,  79. ,  57. , 120. ,  68. ,  59. ,\n",
       "        67. ,  65. , 103. ,  77. ,  97. ,  74. ,  61. ,  73. , 130. ,\n",
       "        91. ,  50. ,  40. ,  56. ,  95. , 106. , 119. ,  62. , 114. ,\n",
       "        52. ,  10. ,  54. , 105. ,  81. ,  55. , 115. , 122. ,  45. ,\n",
       "        63. , 111. ,  99. , 113. , 866. , 107. , 117. , 140. ,  64. ,\n",
       "        94. , 109. , 101. ,  48. , 108. , 142. ,  53. , 102. , 149. ,\n",
       "       126. , 118. , 125. , 116. , 132. ,  38. , 123. ,  44. , 128. ,\n",
       "       124. , 138. , 129. ,  47. , 784. ,  42. ,  46. ,  43. ,  39. ,\n",
       "        51. ,  30. ,  41.5,   7. , 880. , 127. , 136. , 882. , 678. ,\n",
       "       134. , 131. , 139. , 700. ,  34. , 665. , 168. ,  17. , 150. ,\n",
       "       703. ,  31. ,  36. , 809. , 148. ,  24. ,  19.4, 767. ,  20. ,\n",
       "       143. ,  32. ,  35. , 198. ,  41. , 660. , 135. , 165. , 133. ,\n",
       "       164. , 782. , 146. , 778. , 147. ])"
      ]
     },
     "execution_count": 40,
     "metadata": {},
     "output_type": "execute_result"
    }
   ],
   "source": [
    "data['Diastolic Pressure'].unique()"
   ]
  },
  {
   "cell_type": "code",
   "execution_count": 41,
   "id": "3546a25e",
   "metadata": {},
   "outputs": [
    {
     "data": {
      "text/plain": [
       "array([ 22,  20,  36,  21,  25,  24,  28,  18,  16,  19,  15,  17,  42,\n",
       "        23,  14,  26,  40,  34,  35,  29,  60,  32,  53,  64,  30,  38,\n",
       "        62,  44,  55,  27,  10,  12,  72,  13,  63,  48,  54,  70,  33,\n",
       "        52,   1,  50,  57,  93,  56,  31,   0,  39,   2,  78,  68,  46,\n",
       "       223, 172,  80,  66,  82,  49,  41, 100,  88,  45,  96,  85, 105,\n",
       "        47, 111,   6,   7,  86, 211, 245, 189, 110,   8, 123,  81, 188,\n",
       "        92,  73,  76,  65,  43,  37,  69, 180])"
      ]
     },
     "execution_count": 41,
     "metadata": {},
     "output_type": "execute_result"
    }
   ],
   "source": [
    "data['Respiratory Rate'].unique()"
   ]
  },
  {
   "cell_type": "code",
   "execution_count": 42,
   "id": "6d0ba93d",
   "metadata": {},
   "outputs": [
    {
     "data": {
      "text/plain": [
       "array([36.  , 56.  , 36.5 , 38.  , 36.8 , 35.4 , 36.6 , 48.  , 37.  ,\n",
       "       36.3 , 36.9 , 37.1 , 36.4 , 36.2 , 37.9 , 43.  , 36.1 , 41.  ,\n",
       "       38.2 , 37.4 , 37.3 , 35.  , 36.7 , 35.7 , 38.9 , 40.  , 37.2 ,\n",
       "       38.5 , 38.6 , 34.6 , 35.6 , 38.21, 39.  , 33.  , 39.2 , 38.4 ,\n",
       "       37.8 , 39.9 , 37.7 , 35.2 , 37.6 , 38.1 , 35.8 , 37.5 , 34.  ,\n",
       "       38.8 , 35.9 , 38.7 , 34.8 , 39.6 , 35.5 , 35.1 , 40.7 , 38.3 ,\n",
       "       39.3 , 39.1 , 40.3 , 35.3 , 39.4 , 33.5 , 35.76, 40.2 , 39.8 ,\n",
       "       34.5 , 33.2 , 40.1 , 34.7 , 36.74, 34.1 , 26.  , 27.  , 36.89,\n",
       "       39.5 , 29.  , 37.11, 39.7 , 34.2 , 34.9 , 36.85, 26.8 ])"
      ]
     },
     "execution_count": 42,
     "metadata": {},
     "output_type": "execute_result"
    }
   ],
   "source": [
    "data['Temperature '].unique()"
   ]
  },
  {
   "cell_type": "code",
   "execution_count": 43,
   "id": "f5e4c066",
   "metadata": {},
   "outputs": [
    {
     "data": {
      "text/plain": [
       "array(['No', 'Yes'], dtype=object)"
      ]
     },
     "execution_count": 43,
     "metadata": {},
     "output_type": "execute_result"
    }
   ],
   "source": [
    "data['Musculoskeletal System'].unique()"
   ]
  },
  {
   "cell_type": "code",
   "execution_count": 44,
   "id": "600a3cc9",
   "metadata": {},
   "outputs": [
    {
     "data": {
      "text/plain": [
       "array([ 49.2,  87.8,  49.5, ..., 163.3, 152.2, 177.9])"
      ]
     },
     "execution_count": 44,
     "metadata": {},
     "output_type": "execute_result"
    }
   ],
   "source": [
    "data['Weight'].unique()"
   ]
  },
  {
   "cell_type": "code",
   "execution_count": 45,
   "id": "d278192b",
   "metadata": {},
   "outputs": [
    {
     "data": {
      "text/plain": [
       "Diagnosis\n",
       "Endocrine Disorders        6796\n",
       "Cardiovascular Diseases    6643\n",
       "Surgical Conditions        4817\n",
       "Infectious Diseases        2670\n",
       "Name: count, dtype: int64"
      ]
     },
     "execution_count": 45,
     "metadata": {},
     "output_type": "execute_result"
    }
   ],
   "source": [
    "data['Diagnosis'].value_counts()"
   ]
  },
  {
   "cell_type": "code",
   "execution_count": 46,
   "id": "c63a5940",
   "metadata": {},
   "outputs": [
    {
     "data": {
      "text/plain": [
       "Medical Condition\n",
       "Arthritis       3550\n",
       "Hypertension    3543\n",
       "Asthma          3486\n",
       "Cancer          3462\n",
       "Diabetes        3453\n",
       "Obesity         3432\n",
       "Name: count, dtype: int64"
      ]
     },
     "execution_count": 46,
     "metadata": {},
     "output_type": "execute_result"
    }
   ],
   "source": [
    "data['Medical Condition'].value_counts()"
   ]
  },
  {
   "cell_type": "code",
   "execution_count": 47,
   "id": "43da466b",
   "metadata": {},
   "outputs": [
    {
     "data": {
      "text/plain": [
       "array([12.1, 12.3, 12.6, 12.7, 12.9, 13. , 13.1, 13.2, 13.3, 13.4, 13.5,\n",
       "       13.6, 13.7, 13.8, 13.9, 14. , 14.1, 14.2, 14.3, 14.4, 14.5, 14.6,\n",
       "       14.7, 14.8, 14.9, 15. , 15.1, 15.2, 15.3, 15.4, 15.5, 15.6, 15.7,\n",
       "       15.8, 15.9, 16. , 16.1, 16.2, 16.3, 16.4, 16.5, 16.6, 16.7, 16.8,\n",
       "       16.9, 17. , 17.1, 17.2, 17.3, 17.4, 17.5, 17.6, 17.7, 17.8, 17.9,\n",
       "       18. , 18.1, 18.2, 18.3, 18.4, 18.5, 18.6, 18.7, 18.8, 18.9, 19. ,\n",
       "       19.1, 19.2, 19.3, 19.4, 19.5, 19.6, 19.7, 19.8, 19.9, 20. , 20.1,\n",
       "       20.2, 20.3, 20.4, 20.5, 20.6, 20.7, 20.8, 20.9, 21. , 21.1, 21.2,\n",
       "       21.3, 21.4, 21.5, 21.6, 21.7, 21.8, 21.9, 22. , 22.1, 22.2, 22.3,\n",
       "       22.4, 22.5, 22.6, 22.7, 22.8, 22.9, 23. , 23.1, 23.2, 23.3, 23.4,\n",
       "       23.5, 23.6, 23.7, 23.8, 23.9, 24. , 24.1, 24.2, 24.3, 24.4, 24.5,\n",
       "       24.6, 24.7, 24.8, 24.9, 25. , 25.1, 25.2, 25.3, 25.4, 25.5, 25.6,\n",
       "       25.7, 25.8, 25.9, 26. , 26.1, 26.2, 26.3, 26.4, 26.5, 26.6, 26.7,\n",
       "       26.8, 26.9, 27. , 27.1, 27.2, 27.3, 27.4, 27.5, 27.6, 27.7, 27.8,\n",
       "       27.9, 28. , 28.1, 28.2, 28.3, 28.4, 28.5, 28.6, 28.7, 28.8, 28.9,\n",
       "       29. , 29.1, 29.2, 29.3, 29.4, 29.5, 29.6, 29.7, 29.8, 29.9, 30. ,\n",
       "       30.1, 30.2, 30.3, 30.4, 30.5, 30.6, 30.7, 30.8, 30.9, 31. , 31.1,\n",
       "       31.2, 31.3, 31.4, 31.5, 31.6, 31.7, 31.8, 31.9, 32. , 32.1, 32.2,\n",
       "       32.3, 32.4, 32.5, 32.6, 32.7, 32.8, 32.9, 33. , 33.1, 33.2, 33.3,\n",
       "       33.4, 33.5, 33.6, 33.7, 33.8, 33.9, 34. , 34.1, 34.2, 34.3, 34.4,\n",
       "       34.5, 34.6, 34.7, 34.8, 34.9, 35. , 35.1, 35.2, 35.3, 35.4, 35.5,\n",
       "       35.6, 35.7, 35.8, 35.9, 36. , 36.1, 36.2, 36.3, 36.4, 36.5, 36.6,\n",
       "       36.7, 36.8, 36.9, 37. , 37.1, 37.2, 37.3, 37.4, 37.5, 37.6, 37.7,\n",
       "       37.8, 37.9, 38. , 38.1, 38.2, 38.3, 38.4, 38.5, 38.6, 38.7, 38.8,\n",
       "       38.9, 39. , 39.1, 39.2, 39.3, 39.4, 39.5, 39.6, 39.7, 39.8, 39.9,\n",
       "       40. , 40.1, 40.2, 40.3, 40.4, 40.5, 40.6, 40.7, 40.8, 40.9, 41. ,\n",
       "       41.1, 41.2, 41.3, 41.4, 41.5, 41.6, 41.7, 41.8, 41.9, 42. , 42.1,\n",
       "       42.2, 42.3, 42.4, 42.5, 42.6, 42.7, 42.8, 42.9, 43. , 43.1, 43.2,\n",
       "       43.3, 43.4, 43.5, 43.6, 43.7, 43.8, 43.9, 44. , 44.1, 44.2, 44.3,\n",
       "       44.4, 44.5, 44.6, 44.7, 44.8, 44.9, 45. , 45.1, 45.2, 45.3, 45.4,\n",
       "       45.5, 45.6, 45.7, 45.8, 45.9, 46. , 46.1, 46.2, 46.3, 46.4, 46.6,\n",
       "       46.7, 46.8, 46.9, 47.1, 47.2, 47.3, 47.4, 47.5, 47.6, 47.7, 47.8,\n",
       "       47.9, 48. , 48.1, 48.2, 48.3, 48.4, 48.5, 48.6, 48.7, 48.8, 48.9,\n",
       "       49. , 49.1, 49.2, 49.3, 49.4, 49.5, 49.6, 49.9, 50. , 50.1, 50.2,\n",
       "       50.3, 50.4, 50.5, 50.6, 50.7, 50.8, 50.9, 51. , 51.1, 51.2, 51.3,\n",
       "       51.4, 51.5, 51.6, 51.8, 51.9, 52. , 52.2, 52.3, 52.4, 52.6, 52.7,\n",
       "       53. , 53.3, 53.5, 53.6, 53.9, 54. , 54.2, 54.3, 54.9, 55. , 55.1,\n",
       "       55.3, 55.6, 55.7, 56.3, 56.4, 56.5, 56.7, 56.9, 57.3, 57.4, 57.8,\n",
       "       57.9, 58.3, 58.4, 58.6, 58.7, 58.9, 60.9, 62.2, 63. , 63.3, 64.2,\n",
       "       64.3, 64.7, 65.5, 67.5, 67.9, 68.6, 70.1, 71.5, 74.1, 77.5, 82.9])"
      ]
     },
     "execution_count": 47,
     "metadata": {},
     "output_type": "execute_result"
    }
   ],
   "source": [
    "data['BMI'].unique()"
   ]
  },
  {
   "cell_type": "code",
   "execution_count": 48,
   "id": "1d6e5970",
   "metadata": {},
   "outputs": [
    {
     "data": {
      "text/plain": [
       "array([175, 248, 183, 196, 150, 122, 126, 172, 177, 139, 141, 157, 108,\n",
       "       215, 187, 214, 270, 171, 204, 218, 188, 130, 234, 180, 154, 165,\n",
       "       193, 233, 142, 170, 166, 140, 120, 124, 186, 195, 155, 174, 189,\n",
       "       163, 201, 110, 197, 158, 250, 151, 159, 213, 161, 160, 119, 208,\n",
       "       240, 169, 185, 134, 266, 194, 145, 190, 144, 106, 182, 191, 131,\n",
       "       138, 143, 133, 127, 125, 164, 137, 149, 232, 147, 135, 146, 199,\n",
       "       153, 246, 115, 198, 178, 173, 192, 116, 152, 202, 162, 129,  94,\n",
       "       184, 148, 228, 216, 118, 207, 244, 282, 243, 168, 109, 179, 167,\n",
       "       156,  99, 224, 200, 211, 203, 227, 132, 259, 252, 278, 235, 176,\n",
       "       272, 123, 113, 102, 253, 301, 217, 117, 257, 230, 258, 128, 121,\n",
       "       209, 287, 101, 264, 220, 277, 181, 136, 247, 225, 219, 237, 205,\n",
       "       112, 263, 206, 226, 260, 239, 256, 245,  92, 280, 267, 289, 261,\n",
       "       262, 100, 274, 210, 238, 222, 231, 111, 279, 105, 223, 114,  78,\n",
       "       249, 286, 251,  98, 236, 271, 317, 229, 254, 296,  90, 242, 107,\n",
       "       284, 304, 241, 255, 294, 221, 297, 309,  95, 275, 312, 212, 103,\n",
       "       316,  87, 265, 311, 104, 290, 276, 273, 269,  83, 285,  89,  85,\n",
       "       268, 324, 281,  96, 417, 325, 331,  76, 302, 306, 326, 463, 292,\n",
       "       380, 332, 345, 295, 313,  82, 283,  91, 333, 343, 300, 305, 293,\n",
       "       362, 315, 322, 354,  69, 347,  97, 525, 348, 308, 291, 329, 288,\n",
       "       340, 612, 813, 346, 330,  93])"
      ]
     },
     "execution_count": 48,
     "metadata": {},
     "output_type": "execute_result"
    }
   ],
   "source": [
    "data['Total Cholesterol '].unique()"
   ]
  },
  {
   "cell_type": "code",
   "execution_count": 49,
   "id": "0dfff78e",
   "metadata": {},
   "outputs": [
    {
     "data": {
      "text/plain": [
       "array(['No', 'Yes'], dtype=object)"
      ]
     },
     "execution_count": 49,
     "metadata": {},
     "output_type": "execute_result"
    }
   ],
   "source": [
    "data['CVD'].unique()"
   ]
  },
  {
   "cell_type": "code",
   "execution_count": 50,
   "id": "6c1e003d",
   "metadata": {},
   "outputs": [
    {
     "name": "stdout",
     "output_type": "stream",
     "text": [
      "<class 'pandas.core.frame.DataFrame'>\n",
      "RangeIndex: 20926 entries, 0 to 20925\n",
      "Data columns (total 18 columns):\n",
      " #   Column                  Non-Null Count  Dtype  \n",
      "---  ------                  --------------  -----  \n",
      " 0   Risk Factor             20926 non-null  object \n",
      " 1   Allr Hx                 20926 non-null  object \n",
      " 2   Age                     20926 non-null  int64  \n",
      " 3   Gender                  20926 non-null  object \n",
      " 4   Medic Hx                20926 non-null  object \n",
      " 5   Historian               20926 non-null  object \n",
      " 6   Pulse Rate              20926 non-null  int64  \n",
      " 7   Systolic Pressure       20926 non-null  int64  \n",
      " 8   Diastolic Pressure      20926 non-null  float64\n",
      " 9   Respiratory Rate        20926 non-null  int64  \n",
      " 10  Temperature             20926 non-null  float64\n",
      " 11  Musculoskeletal System  20926 non-null  object \n",
      " 12  Weight                  20926 non-null  float64\n",
      " 13  Diagnosis               20926 non-null  object \n",
      " 14  Medical Condition       20926 non-null  object \n",
      " 15  BMI                     20926 non-null  float64\n",
      " 16  Total Cholesterol       20926 non-null  int64  \n",
      " 17  CVD                     20926 non-null  object \n",
      "dtypes: float64(4), int64(5), object(9)\n",
      "memory usage: 2.9+ MB\n"
     ]
    }
   ],
   "source": [
    "data.info()"
   ]
  },
  {
   "cell_type": "code",
   "execution_count": 51,
   "id": "8d69e513",
   "metadata": {},
   "outputs": [
    {
     "data": {
      "text/plain": [
       "(20926, 18)"
      ]
     },
     "execution_count": 51,
     "metadata": {},
     "output_type": "execute_result"
    }
   ],
   "source": [
    "data.shape"
   ]
  },
  {
   "cell_type": "code",
   "execution_count": 52,
   "id": "bdc7d454",
   "metadata": {},
   "outputs": [
    {
     "data": {
      "text/plain": [
       "Risk Factor               0\n",
       "Allr Hx                   0\n",
       "Age                       0\n",
       "Gender                    0\n",
       "Medic Hx                  0\n",
       "Historian                 0\n",
       "Pulse Rate                0\n",
       "Systolic Pressure         0\n",
       "Diastolic Pressure        0\n",
       "Respiratory Rate          0\n",
       "Temperature               0\n",
       "Musculoskeletal System    0\n",
       "Weight                    0\n",
       "Diagnosis                 0\n",
       "Medical Condition         0\n",
       "BMI                       0\n",
       "Total Cholesterol         0\n",
       "CVD                       0\n",
       "dtype: int64"
      ]
     },
     "execution_count": 52,
     "metadata": {},
     "output_type": "execute_result"
    }
   ],
   "source": [
    "data.isnull().sum()"
   ]
  },
  {
   "cell_type": "markdown",
   "id": "d0b89ce8",
   "metadata": {},
   "source": [
    "#### Data Preprocessing"
   ]
  },
  {
   "cell_type": "code",
   "execution_count": 8,
   "id": "6a347ce2",
   "metadata": {},
   "outputs": [],
   "source": [
    "import pandas as pd\n",
    "import numpy as np\n",
    "import matplotlib.pyplot as plt\n",
    "import seaborn as sns"
   ]
  },
  {
   "cell_type": "markdown",
   "id": "be3c7c51",
   "metadata": {},
   "source": [
    "#### Step 1: Load the Dataset"
   ]
  },
  {
   "cell_type": "code",
   "execution_count": 9,
   "id": "81b278b9",
   "metadata": {},
   "outputs": [],
   "source": [
    "import pandas as pd\n",
    "\n",
    "# Load the dataset\n",
    "df = pd.read_csv('CVD_Dataset.csv')"
   ]
  },
  {
   "cell_type": "code",
   "execution_count": 10,
   "id": "4a3799f9",
   "metadata": {},
   "outputs": [
    {
     "data": {
      "text/html": [
       "<div>\n",
       "<style scoped>\n",
       "    .dataframe tbody tr th:only-of-type {\n",
       "        vertical-align: middle;\n",
       "    }\n",
       "\n",
       "    .dataframe tbody tr th {\n",
       "        vertical-align: top;\n",
       "    }\n",
       "\n",
       "    .dataframe thead th {\n",
       "        text-align: right;\n",
       "    }\n",
       "</style>\n",
       "<table border=\"1\" class=\"dataframe\">\n",
       "  <thead>\n",
       "    <tr style=\"text-align: right;\">\n",
       "      <th></th>\n",
       "      <th>Risk Factor</th>\n",
       "      <th>Allr Hx</th>\n",
       "      <th>Age</th>\n",
       "      <th>Gender</th>\n",
       "      <th>Medic Hx</th>\n",
       "      <th>Historian</th>\n",
       "      <th>Pulse Rate</th>\n",
       "      <th>Systolic Pressure</th>\n",
       "      <th>Diastolic Pressure</th>\n",
       "      <th>Respiratory Rate</th>\n",
       "      <th>Temperature</th>\n",
       "      <th>Musculoskeletal System</th>\n",
       "      <th>Weight</th>\n",
       "      <th>Diagnosis</th>\n",
       "      <th>Medical Condition</th>\n",
       "      <th>BMI</th>\n",
       "      <th>Total Cholesterol</th>\n",
       "      <th>CVD</th>\n",
       "    </tr>\n",
       "  </thead>\n",
       "  <tbody>\n",
       "    <tr>\n",
       "      <th>0</th>\n",
       "      <td>Diabetes</td>\n",
       "      <td>No</td>\n",
       "      <td>49</td>\n",
       "      <td>Female</td>\n",
       "      <td>No</td>\n",
       "      <td>No</td>\n",
       "      <td>78</td>\n",
       "      <td>107</td>\n",
       "      <td>71.0</td>\n",
       "      <td>22</td>\n",
       "      <td>36.0</td>\n",
       "      <td>No</td>\n",
       "      <td>49.2</td>\n",
       "      <td>Surgical Conditions</td>\n",
       "      <td>Arthritis</td>\n",
       "      <td>12.1</td>\n",
       "      <td>175</td>\n",
       "      <td>No</td>\n",
       "    </tr>\n",
       "    <tr>\n",
       "      <th>1</th>\n",
       "      <td>Diabetes</td>\n",
       "      <td>YES</td>\n",
       "      <td>20</td>\n",
       "      <td>Female</td>\n",
       "      <td>No</td>\n",
       "      <td>No</td>\n",
       "      <td>88</td>\n",
       "      <td>110</td>\n",
       "      <td>70.0</td>\n",
       "      <td>20</td>\n",
       "      <td>36.0</td>\n",
       "      <td>No</td>\n",
       "      <td>87.8</td>\n",
       "      <td>Cardiovascular Diseases</td>\n",
       "      <td>Cancer</td>\n",
       "      <td>12.1</td>\n",
       "      <td>248</td>\n",
       "      <td>Yes</td>\n",
       "    </tr>\n",
       "    <tr>\n",
       "      <th>2</th>\n",
       "      <td>Diabetes</td>\n",
       "      <td>YES</td>\n",
       "      <td>53</td>\n",
       "      <td>Male</td>\n",
       "      <td>No</td>\n",
       "      <td>No</td>\n",
       "      <td>112</td>\n",
       "      <td>165</td>\n",
       "      <td>112.0</td>\n",
       "      <td>36</td>\n",
       "      <td>56.0</td>\n",
       "      <td>No</td>\n",
       "      <td>87.8</td>\n",
       "      <td>Endocrine Disorders</td>\n",
       "      <td>Cancer</td>\n",
       "      <td>12.1</td>\n",
       "      <td>183</td>\n",
       "      <td>Yes</td>\n",
       "    </tr>\n",
       "    <tr>\n",
       "      <th>3</th>\n",
       "      <td>Diabetes</td>\n",
       "      <td>YES</td>\n",
       "      <td>67</td>\n",
       "      <td>Female</td>\n",
       "      <td>Yes</td>\n",
       "      <td>No</td>\n",
       "      <td>88</td>\n",
       "      <td>110</td>\n",
       "      <td>70.0</td>\n",
       "      <td>20</td>\n",
       "      <td>36.0</td>\n",
       "      <td>No</td>\n",
       "      <td>49.5</td>\n",
       "      <td>Cardiovascular Diseases</td>\n",
       "      <td>Obesity</td>\n",
       "      <td>12.3</td>\n",
       "      <td>196</td>\n",
       "      <td>Yes</td>\n",
       "    </tr>\n",
       "    <tr>\n",
       "      <th>4</th>\n",
       "      <td>Diabetes</td>\n",
       "      <td>No</td>\n",
       "      <td>62</td>\n",
       "      <td>Female</td>\n",
       "      <td>No</td>\n",
       "      <td>No</td>\n",
       "      <td>104</td>\n",
       "      <td>110</td>\n",
       "      <td>71.0</td>\n",
       "      <td>22</td>\n",
       "      <td>36.5</td>\n",
       "      <td>No</td>\n",
       "      <td>47.0</td>\n",
       "      <td>Surgical Conditions</td>\n",
       "      <td>Hypertension</td>\n",
       "      <td>12.6</td>\n",
       "      <td>150</td>\n",
       "      <td>No</td>\n",
       "    </tr>\n",
       "  </tbody>\n",
       "</table>\n",
       "</div>"
      ],
      "text/plain": [
       "  Risk Factor Allr Hx  Age  Gender Medic Hx Historian  Pulse Rate  \\\n",
       "0    Diabetes      No   49  Female       No        No          78   \n",
       "1    Diabetes     YES   20  Female       No        No          88   \n",
       "2    Diabetes     YES   53    Male       No        No         112   \n",
       "3    Diabetes     YES   67  Female      Yes        No          88   \n",
       "4    Diabetes      No   62  Female       No        No         104   \n",
       "\n",
       "   Systolic Pressure  Diastolic Pressure  Respiratory Rate  Temperature   \\\n",
       "0                107                71.0                22          36.0   \n",
       "1                110                70.0                20          36.0   \n",
       "2                165               112.0                36          56.0   \n",
       "3                110                70.0                20          36.0   \n",
       "4                110                71.0                22          36.5   \n",
       "\n",
       "  Musculoskeletal System  Weight                Diagnosis Medical Condition  \\\n",
       "0                     No    49.2      Surgical Conditions         Arthritis   \n",
       "1                     No    87.8  Cardiovascular Diseases            Cancer   \n",
       "2                     No    87.8      Endocrine Disorders            Cancer   \n",
       "3                     No    49.5  Cardiovascular Diseases           Obesity   \n",
       "4                     No    47.0      Surgical Conditions      Hypertension   \n",
       "\n",
       "    BMI  Total Cholesterol   CVD  \n",
       "0  12.1                 175   No  \n",
       "1  12.1                 248  Yes  \n",
       "2  12.1                 183  Yes  \n",
       "3  12.3                 196  Yes  \n",
       "4  12.6                 150   No  "
      ]
     },
     "execution_count": 10,
     "metadata": {},
     "output_type": "execute_result"
    }
   ],
   "source": [
    "# Display the first few rows\n",
    "df.head()\n"
   ]
  },
  {
   "cell_type": "code",
   "execution_count": 11,
   "id": "120236f7",
   "metadata": {},
   "outputs": [
    {
     "name": "stdout",
     "output_type": "stream",
     "text": [
      "<class 'pandas.core.frame.DataFrame'>\n",
      "RangeIndex: 20926 entries, 0 to 20925\n",
      "Data columns (total 18 columns):\n",
      " #   Column                  Non-Null Count  Dtype  \n",
      "---  ------                  --------------  -----  \n",
      " 0   Risk Factor             20926 non-null  object \n",
      " 1   Allr Hx                 20926 non-null  object \n",
      " 2   Age                     20926 non-null  int64  \n",
      " 3   Gender                  20926 non-null  object \n",
      " 4   Medic Hx                20926 non-null  object \n",
      " 5   Historian               20926 non-null  object \n",
      " 6   Pulse Rate              20926 non-null  int64  \n",
      " 7   Systolic Pressure       20926 non-null  int64  \n",
      " 8   Diastolic Pressure      20926 non-null  float64\n",
      " 9   Respiratory Rate        20926 non-null  int64  \n",
      " 10  Temperature             20926 non-null  float64\n",
      " 11  Musculoskeletal System  20926 non-null  object \n",
      " 12  Weight                  20926 non-null  float64\n",
      " 13  Diagnosis               20926 non-null  object \n",
      " 14  Medical Condition       20926 non-null  object \n",
      " 15  BMI                     20926 non-null  float64\n",
      " 16  Total Cholesterol       20926 non-null  int64  \n",
      " 17  CVD                     20926 non-null  object \n",
      "dtypes: float64(4), int64(5), object(9)\n",
      "memory usage: 2.9+ MB\n"
     ]
    }
   ],
   "source": [
    "# Check basic info\n",
    "df.info()"
   ]
  },
  {
   "cell_type": "markdown",
   "id": "465ab6cc",
   "metadata": {},
   "source": [
    "#### Step 2: Handle Missing Values"
   ]
  },
  {
   "cell_type": "code",
   "execution_count": 12,
   "id": "1ba1b7a1",
   "metadata": {},
   "outputs": [
    {
     "name": "stdout",
     "output_type": "stream",
     "text": [
      "Risk Factor               0\n",
      "Allr Hx                   0\n",
      "Age                       0\n",
      "Gender                    0\n",
      "Medic Hx                  0\n",
      "Historian                 0\n",
      "Pulse Rate                0\n",
      "Systolic Pressure         0\n",
      "Diastolic Pressure        0\n",
      "Respiratory Rate          0\n",
      "Temperature               0\n",
      "Musculoskeletal System    0\n",
      "Weight                    0\n",
      "Diagnosis                 0\n",
      "Medical Condition         0\n",
      "BMI                       0\n",
      "Total Cholesterol         0\n",
      "CVD                       0\n",
      "dtype: int64\n"
     ]
    }
   ],
   "source": [
    "# Check for missing values\n",
    "print(df.isnull().sum())\n"
   ]
  },
  {
   "cell_type": "markdown",
   "id": "db5dc880",
   "metadata": {},
   "source": [
    "#### Step 3: Encode Categorical Features"
   ]
  },
  {
   "cell_type": "code",
   "execution_count": 13,
   "id": "52bfc667",
   "metadata": {},
   "outputs": [
    {
     "name": "stdout",
     "output_type": "stream",
     "text": [
      "Categorical columns: Index(['Risk Factor', 'Allr Hx', 'Gender', 'Medic Hx', 'Historian',\n",
      "       'Musculoskeletal System', 'Diagnosis', 'Medical Condition', 'CVD'],\n",
      "      dtype='object')\n"
     ]
    }
   ],
   "source": [
    "# Identify categorical columns\n",
    "categorical_cols = df.select_dtypes(include=['object']).columns\n",
    "print(\"Categorical columns:\", categorical_cols)\n"
   ]
  },
  {
   "cell_type": "code",
   "execution_count": 14,
   "id": "7b224460",
   "metadata": {},
   "outputs": [],
   "source": [
    "# Apply one-hot encoding or label encoding\n",
    "df = pd.get_dummies(df, columns=categorical_cols, drop_first=True)"
   ]
  },
  {
   "cell_type": "code",
   "execution_count": 15,
   "id": "c83efa37",
   "metadata": {},
   "outputs": [
    {
     "data": {
      "text/html": [
       "<div>\n",
       "<style scoped>\n",
       "    .dataframe tbody tr th:only-of-type {\n",
       "        vertical-align: middle;\n",
       "    }\n",
       "\n",
       "    .dataframe tbody tr th {\n",
       "        vertical-align: top;\n",
       "    }\n",
       "\n",
       "    .dataframe thead th {\n",
       "        text-align: right;\n",
       "    }\n",
       "</style>\n",
       "<table border=\"1\" class=\"dataframe\">\n",
       "  <thead>\n",
       "    <tr style=\"text-align: right;\">\n",
       "      <th></th>\n",
       "      <th>Age</th>\n",
       "      <th>Pulse Rate</th>\n",
       "      <th>Systolic Pressure</th>\n",
       "      <th>Diastolic Pressure</th>\n",
       "      <th>Respiratory Rate</th>\n",
       "      <th>Temperature</th>\n",
       "      <th>Weight</th>\n",
       "      <th>BMI</th>\n",
       "      <th>Total Cholesterol</th>\n",
       "      <th>Risk Factor_Dyslamapedia</th>\n",
       "      <th>...</th>\n",
       "      <th>Musculoskeletal System_Yes</th>\n",
       "      <th>Diagnosis_Endocrine Disorders</th>\n",
       "      <th>Diagnosis_Infectious Diseases</th>\n",
       "      <th>Diagnosis_Surgical Conditions</th>\n",
       "      <th>Medical Condition_Asthma</th>\n",
       "      <th>Medical Condition_Cancer</th>\n",
       "      <th>Medical Condition_Diabetes</th>\n",
       "      <th>Medical Condition_Hypertension</th>\n",
       "      <th>Medical Condition_Obesity</th>\n",
       "      <th>CVD_Yes</th>\n",
       "    </tr>\n",
       "  </thead>\n",
       "  <tbody>\n",
       "    <tr>\n",
       "      <th>0</th>\n",
       "      <td>49</td>\n",
       "      <td>78</td>\n",
       "      <td>107</td>\n",
       "      <td>71.0</td>\n",
       "      <td>22</td>\n",
       "      <td>36.0</td>\n",
       "      <td>49.2</td>\n",
       "      <td>12.1</td>\n",
       "      <td>175</td>\n",
       "      <td>False</td>\n",
       "      <td>...</td>\n",
       "      <td>False</td>\n",
       "      <td>False</td>\n",
       "      <td>False</td>\n",
       "      <td>True</td>\n",
       "      <td>False</td>\n",
       "      <td>False</td>\n",
       "      <td>False</td>\n",
       "      <td>False</td>\n",
       "      <td>False</td>\n",
       "      <td>False</td>\n",
       "    </tr>\n",
       "    <tr>\n",
       "      <th>1</th>\n",
       "      <td>20</td>\n",
       "      <td>88</td>\n",
       "      <td>110</td>\n",
       "      <td>70.0</td>\n",
       "      <td>20</td>\n",
       "      <td>36.0</td>\n",
       "      <td>87.8</td>\n",
       "      <td>12.1</td>\n",
       "      <td>248</td>\n",
       "      <td>False</td>\n",
       "      <td>...</td>\n",
       "      <td>False</td>\n",
       "      <td>False</td>\n",
       "      <td>False</td>\n",
       "      <td>False</td>\n",
       "      <td>False</td>\n",
       "      <td>True</td>\n",
       "      <td>False</td>\n",
       "      <td>False</td>\n",
       "      <td>False</td>\n",
       "      <td>True</td>\n",
       "    </tr>\n",
       "    <tr>\n",
       "      <th>2</th>\n",
       "      <td>53</td>\n",
       "      <td>112</td>\n",
       "      <td>165</td>\n",
       "      <td>112.0</td>\n",
       "      <td>36</td>\n",
       "      <td>56.0</td>\n",
       "      <td>87.8</td>\n",
       "      <td>12.1</td>\n",
       "      <td>183</td>\n",
       "      <td>False</td>\n",
       "      <td>...</td>\n",
       "      <td>False</td>\n",
       "      <td>True</td>\n",
       "      <td>False</td>\n",
       "      <td>False</td>\n",
       "      <td>False</td>\n",
       "      <td>True</td>\n",
       "      <td>False</td>\n",
       "      <td>False</td>\n",
       "      <td>False</td>\n",
       "      <td>True</td>\n",
       "    </tr>\n",
       "    <tr>\n",
       "      <th>3</th>\n",
       "      <td>67</td>\n",
       "      <td>88</td>\n",
       "      <td>110</td>\n",
       "      <td>70.0</td>\n",
       "      <td>20</td>\n",
       "      <td>36.0</td>\n",
       "      <td>49.5</td>\n",
       "      <td>12.3</td>\n",
       "      <td>196</td>\n",
       "      <td>False</td>\n",
       "      <td>...</td>\n",
       "      <td>False</td>\n",
       "      <td>False</td>\n",
       "      <td>False</td>\n",
       "      <td>False</td>\n",
       "      <td>False</td>\n",
       "      <td>False</td>\n",
       "      <td>False</td>\n",
       "      <td>False</td>\n",
       "      <td>True</td>\n",
       "      <td>True</td>\n",
       "    </tr>\n",
       "    <tr>\n",
       "      <th>4</th>\n",
       "      <td>62</td>\n",
       "      <td>104</td>\n",
       "      <td>110</td>\n",
       "      <td>71.0</td>\n",
       "      <td>22</td>\n",
       "      <td>36.5</td>\n",
       "      <td>47.0</td>\n",
       "      <td>12.6</td>\n",
       "      <td>150</td>\n",
       "      <td>False</td>\n",
       "      <td>...</td>\n",
       "      <td>False</td>\n",
       "      <td>False</td>\n",
       "      <td>False</td>\n",
       "      <td>True</td>\n",
       "      <td>False</td>\n",
       "      <td>False</td>\n",
       "      <td>False</td>\n",
       "      <td>True</td>\n",
       "      <td>False</td>\n",
       "      <td>False</td>\n",
       "    </tr>\n",
       "  </tbody>\n",
       "</table>\n",
       "<p>5 rows × 27 columns</p>\n",
       "</div>"
      ],
      "text/plain": [
       "   Age  Pulse Rate  Systolic Pressure  Diastolic Pressure  Respiratory Rate  \\\n",
       "0   49          78                107                71.0                22   \n",
       "1   20          88                110                70.0                20   \n",
       "2   53         112                165               112.0                36   \n",
       "3   67          88                110                70.0                20   \n",
       "4   62         104                110                71.0                22   \n",
       "\n",
       "   Temperature   Weight   BMI  Total Cholesterol   Risk Factor_Dyslamapedia  \\\n",
       "0          36.0    49.2  12.1                 175                     False   \n",
       "1          36.0    87.8  12.1                 248                     False   \n",
       "2          56.0    87.8  12.1                 183                     False   \n",
       "3          36.0    49.5  12.3                 196                     False   \n",
       "4          36.5    47.0  12.6                 150                     False   \n",
       "\n",
       "   ...  Musculoskeletal System_Yes  Diagnosis_Endocrine Disorders  \\\n",
       "0  ...                       False                          False   \n",
       "1  ...                       False                          False   \n",
       "2  ...                       False                           True   \n",
       "3  ...                       False                          False   \n",
       "4  ...                       False                          False   \n",
       "\n",
       "   Diagnosis_Infectious Diseases  Diagnosis_Surgical Conditions  \\\n",
       "0                          False                           True   \n",
       "1                          False                          False   \n",
       "2                          False                          False   \n",
       "3                          False                          False   \n",
       "4                          False                           True   \n",
       "\n",
       "   Medical Condition_Asthma  Medical Condition_Cancer  \\\n",
       "0                     False                     False   \n",
       "1                     False                      True   \n",
       "2                     False                      True   \n",
       "3                     False                     False   \n",
       "4                     False                     False   \n",
       "\n",
       "   Medical Condition_Diabetes  Medical Condition_Hypertension  \\\n",
       "0                       False                           False   \n",
       "1                       False                           False   \n",
       "2                       False                           False   \n",
       "3                       False                           False   \n",
       "4                       False                            True   \n",
       "\n",
       "   Medical Condition_Obesity  CVD_Yes  \n",
       "0                      False    False  \n",
       "1                      False     True  \n",
       "2                      False     True  \n",
       "3                       True     True  \n",
       "4                      False    False  \n",
       "\n",
       "[5 rows x 27 columns]"
      ]
     },
     "execution_count": 15,
     "metadata": {},
     "output_type": "execute_result"
    }
   ],
   "source": [
    "df.head()"
   ]
  },
  {
   "cell_type": "markdown",
   "id": "a987f6cc",
   "metadata": {},
   "source": [
    "#### Step 4: Separate Features and Target"
   ]
  },
  {
   "cell_type": "code",
   "execution_count": 17,
   "id": "4a37b8cd",
   "metadata": {},
   "outputs": [],
   "source": [
    "# Replace 'Target' with your actual target column name\n",
    "X = df.drop('CVD_Yes', axis=1)\n",
    "y = df['CVD_Yes']\n"
   ]
  },
  {
   "cell_type": "markdown",
   "id": "1286e547",
   "metadata": {},
   "source": [
    "#### Step 5: Feature Scaling"
   ]
  },
  {
   "cell_type": "code",
   "execution_count": 20,
   "id": "15512cbb",
   "metadata": {},
   "outputs": [],
   "source": [
    "from sklearn.preprocessing import StandardScaler\n",
    "\n",
    "scaler = StandardScaler()\n",
    "X_scaled = scaler.fit_transform(X)\n",
    "\n",
    "# Convert back to DataFrame (optional but useful)\n",
    "X_scaled_df = pd.DataFrame(X_scaled, columns=X.columns)\n",
    "\n",
    "# Optionally, combine with target\n",
    "scaled_dataset = pd.concat([X_scaled_df, y.reset_index(drop=True)], axis=1)\n"
   ]
  },
  {
   "cell_type": "markdown",
   "id": "f34e2dc7",
   "metadata": {},
   "source": [
    "#### Step 6: Save the Scaled Dataset"
   ]
  },
  {
   "cell_type": "code",
   "execution_count": null,
   "id": "acf5c776",
   "metadata": {},
   "outputs": [],
   "source": [
    "scaled_dataset.to_csv('scaled_CVD_Dataset.csv', index=False)\n"
   ]
  },
  {
   "cell_type": "code",
   "execution_count": 27,
   "id": "775af584",
   "metadata": {},
   "outputs": [
    {
     "data": {
      "image/png": "[encoded data removed]",
      "text/plain": [
       "<Figure size 1400x600 with 2 Axes>"
      ]
     },
     "metadata": {},
     "output_type": "display_data"
    }
   ],
   "source": [
    "import matplotlib.pyplot as plt\n",
    "import seaborn as sns\n",
    "import warnings\n",
    "\n",
    "warnings.filterwarnings(\"ignore\")\n",
    "\n",
    "# Set Seaborn theme\n",
    "sns.set_theme(style=\"whitegrid\")\n",
    "\n",
    "# Define custom color palette\n",
    "colors = ['#4C72B0', '#DD8452']  # Blue and Orange\n",
    "\n",
    "# Count values for bar and pie chart\n",
    "cvd_counts = df['CVD_Yes'].value_counts().sort_index()\n",
    "labels = ['No CVD', 'Yes CVD']\n",
    "\n",
    "# Create subplots\n",
    "fig, axes = plt.subplots(1, 2, figsize=(14, 6))\n",
    "\n",
    "# ---------------------- Bar Plot ----------------------\n",
    "sns.countplot(x='CVD_Yes', data=df, palette=colors, ax=axes[0])\n",
    "\n",
    "# Add count labels on top\n",
    "for p in axes[0].patches:\n",
    "    height = p.get_height()\n",
    "    axes[0].annotate(f'{height}', (p.get_x() + p.get_width() / 2., height),\n",
    "                     ha='center', va='bottom', fontsize=11, color='black',\n",
    "                     xytext=(0, 5), textcoords='offset points', fontweight='bold')\n",
    "\n",
    "# Customize bar plot\n",
    "axes[0].set_title('Distribution of CVD Cases', fontsize=16, fontweight='bold')\n",
    "axes[0].set_xlabel('CVD Status (0 = No, 1 = Yes)', fontsize=12)\n",
    "axes[0].set_ylabel('Number of Individuals', fontsize=12)\n",
    "axes[0].set_xticklabels(['No CVD', 'Yes CVD'], fontsize=11)\n",
    "\n",
    "# ---------------------- Pie Chart ----------------------\n",
    "explode = (0.05, 0.05)  # Slightly separate both slices\n",
    "wedges, texts, autotexts = axes[1].pie(\n",
    "    cvd_counts,\n",
    "    labels=labels,\n",
    "    autopct='%1.1f%%',\n",
    "    startangle=140,\n",
    "    colors=colors,\n",
    "    explode=explode,\n",
    "    shadow=True,\n",
    "    textprops={'fontsize': 12},\n",
    "    wedgeprops={'edgecolor': 'black'}\n",
    ")\n",
    "\n",
    "# Customize pie chart text\n",
    "for text in autotexts:\n",
    "    text.set_color('white')\n",
    "    text.set_fontweight('bold')\n",
    "for text in texts:\n",
    "    text.set_fontweight('bold')\n",
    "\n",
    "# Title for pie chart\n",
    "axes[1].set_title('Proportion of CVD Cases', fontsize=16, fontweight='bold')\n",
    "\n",
    "# Tight layout\n",
    "plt.tight_layout()\n",
    "plt.show()\n"
   ]
  },
  {
   "cell_type": "code",
   "execution_count": 55,
   "id": "37cbb7ac",
   "metadata": {},
   "outputs": [
    {
     "data": {
      "text/html": [
       "<div>\n",
       "<style scoped>\n",
       "    .dataframe tbody tr th:only-of-type {\n",
       "        vertical-align: middle;\n",
       "    }\n",
       "\n",
       "    .dataframe tbody tr th {\n",
       "        vertical-align: top;\n",
       "    }\n",
       "\n",
       "    .dataframe thead th {\n",
       "        text-align: right;\n",
       "    }\n",
       "</style>\n",
       "<table border=\"1\" class=\"dataframe\">\n",
       "  <thead>\n",
       "    <tr style=\"text-align: right;\">\n",
       "      <th></th>\n",
       "      <th>Age</th>\n",
       "      <th>Pulse Rate</th>\n",
       "      <th>Systolic Pressure</th>\n",
       "      <th>Diastolic Pressure</th>\n",
       "      <th>Respiratory Rate</th>\n",
       "      <th>Temperature</th>\n",
       "      <th>Weight</th>\n",
       "      <th>BMI</th>\n",
       "      <th>Total Cholesterol</th>\n",
       "      <th>Risk Factor_Dyslamapedia</th>\n",
       "      <th>...</th>\n",
       "      <th>Musculoskeletal System_Yes</th>\n",
       "      <th>Diagnosis_Endocrine Disorders</th>\n",
       "      <th>Diagnosis_Infectious Diseases</th>\n",
       "      <th>Diagnosis_Surgical Conditions</th>\n",
       "      <th>Medical Condition_Asthma</th>\n",
       "      <th>Medical Condition_Cancer</th>\n",
       "      <th>Medical Condition_Diabetes</th>\n",
       "      <th>Medical Condition_Hypertension</th>\n",
       "      <th>Medical Condition_Obesity</th>\n",
       "      <th>CVD_Yes</th>\n",
       "    </tr>\n",
       "  </thead>\n",
       "  <tbody>\n",
       "    <tr>\n",
       "      <th>0</th>\n",
       "      <td>-0.220730</td>\n",
       "      <td>-0.632570</td>\n",
       "      <td>-0.675769</td>\n",
       "      <td>-0.181866</td>\n",
       "      <td>0.250619</td>\n",
       "      <td>-0.296989</td>\n",
       "      <td>-2.646255</td>\n",
       "      <td>-1.747322</td>\n",
       "      <td>-0.089204</td>\n",
       "      <td>-0.719817</td>\n",
       "      <td>...</td>\n",
       "      <td>-0.624402</td>\n",
       "      <td>-0.693515</td>\n",
       "      <td>-0.382431</td>\n",
       "      <td>1.828715</td>\n",
       "      <td>-0.447085</td>\n",
       "      <td>-0.445237</td>\n",
       "      <td>-0.444544</td>\n",
       "      <td>-0.451464</td>\n",
       "      <td>-0.442924</td>\n",
       "      <td>False</td>\n",
       "    </tr>\n",
       "    <tr>\n",
       "      <th>1</th>\n",
       "      <td>-1.692960</td>\n",
       "      <td>-0.124677</td>\n",
       "      <td>-0.546705</td>\n",
       "      <td>-0.229600</td>\n",
       "      <td>-0.102353</td>\n",
       "      <td>-0.296989</td>\n",
       "      <td>0.015068</td>\n",
       "      <td>-1.747322</td>\n",
       "      <td>2.012453</td>\n",
       "      <td>-0.719817</td>\n",
       "      <td>...</td>\n",
       "      <td>-0.624402</td>\n",
       "      <td>-0.693515</td>\n",
       "      <td>-0.382431</td>\n",
       "      <td>-0.546832</td>\n",
       "      <td>-0.447085</td>\n",
       "      <td>2.245993</td>\n",
       "      <td>-0.444544</td>\n",
       "      <td>-0.451464</td>\n",
       "      <td>-0.442924</td>\n",
       "      <td>True</td>\n",
       "    </tr>\n",
       "    <tr>\n",
       "      <th>2</th>\n",
       "      <td>-0.017664</td>\n",
       "      <td>1.094266</td>\n",
       "      <td>1.819467</td>\n",
       "      <td>1.775250</td>\n",
       "      <td>2.721419</td>\n",
       "      <td>4.875546</td>\n",
       "      <td>0.015068</td>\n",
       "      <td>-1.747322</td>\n",
       "      <td>0.141115</td>\n",
       "      <td>-0.719817</td>\n",
       "      <td>...</td>\n",
       "      <td>-0.624402</td>\n",
       "      <td>1.441931</td>\n",
       "      <td>-0.382431</td>\n",
       "      <td>-0.546832</td>\n",
       "      <td>-0.447085</td>\n",
       "      <td>2.245993</td>\n",
       "      <td>-0.444544</td>\n",
       "      <td>-0.451464</td>\n",
       "      <td>-0.442924</td>\n",
       "      <td>True</td>\n",
       "    </tr>\n",
       "    <tr>\n",
       "      <th>3</th>\n",
       "      <td>0.693068</td>\n",
       "      <td>-0.124677</td>\n",
       "      <td>-0.546705</td>\n",
       "      <td>-0.229600</td>\n",
       "      <td>-0.102353</td>\n",
       "      <td>-0.296989</td>\n",
       "      <td>-2.625571</td>\n",
       "      <td>-1.721482</td>\n",
       "      <td>0.515383</td>\n",
       "      <td>-0.719817</td>\n",
       "      <td>...</td>\n",
       "      <td>-0.624402</td>\n",
       "      <td>-0.693515</td>\n",
       "      <td>-0.382431</td>\n",
       "      <td>-0.546832</td>\n",
       "      <td>-0.447085</td>\n",
       "      <td>-0.445237</td>\n",
       "      <td>-0.444544</td>\n",
       "      <td>-0.451464</td>\n",
       "      <td>2.257724</td>\n",
       "      <td>True</td>\n",
       "    </tr>\n",
       "    <tr>\n",
       "      <th>4</th>\n",
       "      <td>0.439235</td>\n",
       "      <td>0.687951</td>\n",
       "      <td>-0.546705</td>\n",
       "      <td>-0.181866</td>\n",
       "      <td>0.250619</td>\n",
       "      <td>-0.167676</td>\n",
       "      <td>-2.797936</td>\n",
       "      <td>-1.682720</td>\n",
       "      <td>-0.808949</td>\n",
       "      <td>-0.719817</td>\n",
       "      <td>...</td>\n",
       "      <td>-0.624402</td>\n",
       "      <td>-0.693515</td>\n",
       "      <td>-0.382431</td>\n",
       "      <td>1.828715</td>\n",
       "      <td>-0.447085</td>\n",
       "      <td>-0.445237</td>\n",
       "      <td>-0.444544</td>\n",
       "      <td>2.215016</td>\n",
       "      <td>-0.442924</td>\n",
       "      <td>False</td>\n",
       "    </tr>\n",
       "  </tbody>\n",
       "</table>\n",
       "<p>5 rows × 27 columns</p>\n",
       "</div>"
      ],
      "text/plain": [
       "        Age  Pulse Rate  Systolic Pressure  Diastolic Pressure  \\\n",
       "0 -0.220730   -0.632570          -0.675769           -0.181866   \n",
       "1 -1.692960   -0.124677          -0.546705           -0.229600   \n",
       "2 -0.017664    1.094266           1.819467            1.775250   \n",
       "3  0.693068   -0.124677          -0.546705           -0.229600   \n",
       "4  0.439235    0.687951          -0.546705           -0.181866   \n",
       "\n",
       "   Respiratory Rate  Temperature     Weight       BMI  Total Cholesterol   \\\n",
       "0          0.250619     -0.296989 -2.646255 -1.747322           -0.089204   \n",
       "1         -0.102353     -0.296989  0.015068 -1.747322            2.012453   \n",
       "2          2.721419      4.875546  0.015068 -1.747322            0.141115   \n",
       "3         -0.102353     -0.296989 -2.625571 -1.721482            0.515383   \n",
       "4          0.250619     -0.167676 -2.797936 -1.682720           -0.808949   \n",
       "\n",
       "   Risk Factor_Dyslamapedia  ...  Musculoskeletal System_Yes  \\\n",
       "0                 -0.719817  ...                   -0.624402   \n",
       "1                 -0.719817  ...                   -0.624402   \n",
       "2                 -0.719817  ...                   -0.624402   \n",
       "3                 -0.719817  ...                   -0.624402   \n",
       "4                 -0.719817  ...                   -0.624402   \n",
       "\n",
       "   Diagnosis_Endocrine Disorders  Diagnosis_Infectious Diseases  \\\n",
       "0                      -0.693515                      -0.382431   \n",
       "1                      -0.693515                      -0.382431   \n",
       "2                       1.441931                      -0.382431   \n",
       "3                      -0.693515                      -0.382431   \n",
       "4                      -0.693515                      -0.382431   \n",
       "\n",
       "   Diagnosis_Surgical Conditions  Medical Condition_Asthma  \\\n",
       "0                       1.828715                 -0.447085   \n",
       "1                      -0.546832                 -0.447085   \n",
       "2                      -0.546832                 -0.447085   \n",
       "3                      -0.546832                 -0.447085   \n",
       "4                       1.828715                 -0.447085   \n",
       "\n",
       "   Medical Condition_Cancer  Medical Condition_Diabetes  \\\n",
       "0                 -0.445237                   -0.444544   \n",
       "1                  2.245993                   -0.444544   \n",
       "2                  2.245993                   -0.444544   \n",
       "3                 -0.445237                   -0.444544   \n",
       "4                 -0.445237                   -0.444544   \n",
       "\n",
       "   Medical Condition_Hypertension  Medical Condition_Obesity  CVD_Yes  \n",
       "0                       -0.451464                  -0.442924    False  \n",
       "1                       -0.451464                  -0.442924     True  \n",
       "2                       -0.451464                  -0.442924     True  \n",
       "3                       -0.451464                   2.257724     True  \n",
       "4                        2.215016                  -0.442924    False  \n",
       "\n",
       "[5 rows x 27 columns]"
      ]
     },
     "execution_count": 55,
     "metadata": {},
     "output_type": "execute_result"
    }
   ],
   "source": [
    "Scaled_df = pd.read_csv('scaled_CVD_Dataset.csv')\n",
    "Scaled_df.head()"
   ]
  },
  {
   "cell_type": "code",
   "execution_count": null,
   "id": "3835b660",
   "metadata": {},
   "outputs": [],
   "source": []
  }
 ],
 "metadata": {
  "kernelspec": {
   "display_name": "thesis",
   "language": "python",
   "name": "python3"
  },
  "language_info": {
   "codemirror_mode": {
    "name": "ipython",
    "version": 3
   },
   "file_extension": ".py",
   "mimetype": "text/x-python",
   "name": "python",
   "nbconvert_exporter": "python",
   "pygments_lexer": "ipython3",
   "version": "3.11.7"
  }
 },
 "nbformat": 4,
 "nbformat_minor": 5
}
